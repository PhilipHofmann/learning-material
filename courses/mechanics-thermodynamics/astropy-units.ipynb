{
 "cells": [
  {
   "cell_type": "markdown",
   "metadata": {},
   "source": [
    "# Mechanics and thermodynamics: Handling units using AstroPy\n",
    "\n",
    "[**Download this notebook**](https://ifa-edu-it.github.io/learning-material/courses/mechanics-thermodynamics/astropy-units.ipynb)"
   ]
  },
  {
   "cell_type": "markdown",
   "metadata": {},
   "source": [
    "When performing calculations with physical quantities, it is important to keep track of the units. For some problems this may be simple, but for others where quantities are related by more complicated relations, a mistake in the units can lead to a wrong result. In this notebook we will see how to use the [AstroPy](http://www.astropy.org/) package to handle units.\n",
    "\n",
    "As the name suggests, `astropy` is a package for astronomy, but it also contains a module for handling units which is quite handy for numerical calculations containing physical quantites.\n",
    "\n",
    "Let's start by importing the `astropy.units` module along with `numpy`:"
   ]
  },
  {
   "cell_type": "code",
   "execution_count": 1,
   "metadata": {},
   "outputs": [],
   "source": [
    "import astropy.units as u\n",
    "import numpy as np"
   ]
  },
  {
   "cell_type": "markdown",
   "metadata": {},
   "source": [
    "Using the `astropy.units` module, we can define quantities with units and perform operations on them:"
   ]
  },
  {
   "cell_type": "code",
   "execution_count": 2,
   "metadata": {},
   "outputs": [
    {
     "name": "stdout",
     "output_type": "stream",
     "text": [
      "12.2 m / s\n"
     ]
    }
   ],
   "source": [
    "d = 122 * u.m\n",
    "t = 10 * u.s\n",
    "\n",
    "v = d / t\n",
    "print(v)"
   ]
  },
  {
   "cell_type": "markdown",
   "metadata": {},
   "source": [
    "As seen, the result of the operation is a new quantity with the correct units. We can also convert a quantity to another valid unit using the `.to()` method:"
   ]
  },
  {
   "cell_type": "code",
   "execution_count": 3,
   "metadata": {},
   "outputs": [
    {
     "name": "stdout",
     "output_type": "stream",
     "text": [
      "43.919999999999995 km / h\n"
     ]
    }
   ],
   "source": [
    "v_in_kmh = v.to('km / h')\n",
    "print(v_in_kmh)"
   ]
  },
  {
   "cell_type": "markdown",
   "metadata": {},
   "source": [
    "If you want to know the numeric value of a quantity without the units, you can use the `.value` attribute:"
   ]
  },
  {
   "cell_type": "code",
   "execution_count": 4,
   "metadata": {},
   "outputs": [
    {
     "data": {
      "text/plain": [
       "43.919999999999995"
      ]
     },
     "execution_count": 4,
     "metadata": {},
     "output_type": "execute_result"
    }
   ],
   "source": [
    "v_in_kmh.value"
   ]
  },
  {
   "cell_type": "markdown",
   "metadata": {},
   "source": [
    "This is sometimes useful when you want to use a quantity in a function that does not support units.\n",
    "\n",
    "The useful thing about the `astropy.units` module is that it can handle units of different dimensions. For example, we can define a quantity with units of force and then we can multiply it by a quantity with units of length. The result is a quantity with units of energy, which is the correct unit for the product of force and length:"
   ]
  },
  {
   "cell_type": "code",
   "execution_count": 5,
   "metadata": {},
   "outputs": [
    {
     "name": "stdout",
     "output_type": "stream",
     "text": [
      "F*d in m N: 183.0 m N\n",
      "F*d in J: 183.0 J\n"
     ]
    }
   ],
   "source": [
    "F = 1.5 * u.N\n",
    "E = F * d\n",
    "print('F*d in m N:',E)\n",
    "print('F*d in J:', E.to('J'))"
   ]
  },
  {
   "cell_type": "markdown",
   "metadata": {},
   "source": [
    "The units supported by the `astropy.units` module are listed in the [AstroPy documentation](http://docs.astropy.org/en/stable/units/index.html#module-astropy.units.si). The units are defined in terms of the seven base units:\n",
    "\n",
    "* `m` for length\n",
    "* `kg` for mass\n",
    "* `s` for time\n",
    "* `K` for temperature\n",
    "* `A` for electric current\n",
    "* `mol` for amount of substance\n",
    "* `cd` for luminous intensity\n",
    "\n",
    "The base units are defined in terms of the seven fundamental constants:\n",
    "\n",
    "* `c` for the speed of light\n",
    "* `G` for the gravitational constant\n",
    "* `h` for the Planck constant\n",
    "* `k_B` for the Boltzmann constant\n",
    "* `e` for the elementary charge\n",
    "* `N_A` for the Avogadro constant\n",
    "* `sigma` for the Stefan-Boltzmann constant\n",
    "\n",
    "These constants (and many more) are defined with appropriate units in the `astropy.constants` module:"
   ]
  },
  {
   "cell_type": "code",
   "execution_count": 6,
   "metadata": {},
   "outputs": [
    {
     "name": "stdout",
     "output_type": "stream",
     "text": [
      "  Name   = Speed of light in vacuum\n",
      "  Value  = 299792458.0\n",
      "  Uncertainty  = 0.0\n",
      "  Unit  = m / s\n",
      "  Reference = CODATA 2018\n"
     ]
    }
   ],
   "source": [
    "import astropy.constants as const\n",
    "print(const.c)"
   ]
  },
  {
   "cell_type": "markdown",
   "metadata": {},
   "source": [
    "To find all the constants defined in the `astropy.constants` module, we can use the documentation: [http://docs.astropy.org/en/stable/constants/index.html](http://docs.astropy.org/en/stable/constants/index.html)"
   ]
  },
  {
   "cell_type": "markdown",
   "metadata": {},
   "source": [
    "For advanced users, the `astropy.units` module also supports the definition of new units and constants. For example, we can define a new unit for the speed of light `c`:"
   ]
  },
  {
   "cell_type": "code",
   "execution_count": 7,
   "metadata": {},
   "outputs": [
    {
     "data": {
      "text/plain": [
       "<astropy.units.core._UnitContext at 0x7fce02e66590>"
      ]
     },
     "execution_count": 7,
     "metadata": {},
     "output_type": "execute_result"
    }
   ],
   "source": [
    "c_unit = u.def_unit('c', represents=const.c)\n",
    "u.add_enabled_units(c_unit) # Required to use the unit"
   ]
  },
  {
   "cell_type": "markdown",
   "metadata": {},
   "source": [
    "This new unit can be used in the same way as the other units. As an example, here we are converting the momentum of 1GeV protons to the unit of GeV/c using our newly defined unit:"
   ]
  },
  {
   "cell_type": "code",
   "execution_count": 8,
   "metadata": {},
   "outputs": [
    {
     "data": {
      "text/latex": [
       "$1.6952686 \\; \\mathrm{\\frac{GeV}{c}}$"
      ],
      "text/plain": [
       "<Quantity 1.69526856 GeV / c>"
      ]
     },
     "execution_count": 8,
     "metadata": {},
     "output_type": "execute_result"
    }
   ],
   "source": [
    "p_1GeV = 9.06e-19 * u.kg * u.m / u.s\n",
    "p_1GeV.to('GeV/c')"
   ]
  },
  {
   "cell_type": "markdown",
   "metadata": {},
   "source": [
    "This has been a brief overview of the core functionality of the `astropy.units`and `astropy.constants` modules. For more information, please refer to the [AstroPy documentation](http://docs.astropy.org/en/stable/units/index.html) and make sure to show your co-students any cool tricks you may find."
   ]
  }
 ],
 "metadata": {
  "kernelspec": {
   "display_name": "Python 3.7.8 64-bit",
   "language": "python",
   "name": "python3"
  },
  "language_info": {
   "codemirror_mode": {
    "name": "ipython",
    "version": 3
   },
   "file_extension": ".py",
   "mimetype": "text/x-python",
   "name": "python",
   "nbconvert_exporter": "python",
   "pygments_lexer": "ipython3",
   "version": "3.7.8"
  },
  "orig_nbformat": 4,
  "vscode": {
   "interpreter": {
    "hash": "949777d72b0d2535278d3dc13498b2535136f6dfe0678499012e853ee9abcab1"
   }
  }
 },
 "nbformat": 4,
 "nbformat_minor": 2
}
