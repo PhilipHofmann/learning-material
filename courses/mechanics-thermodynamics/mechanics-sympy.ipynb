{
 "cells": [
  {
   "cell_type": "markdown",
   "id": "97b6d149",
   "metadata": {},
   "source": [
    "## Solving symbolic problems with Sympy\n",
    "\n",
    "[**Download this notebook**](https://ifa-edu-it.github.io/learning-material/courses/mechanics-thermodynamics/mechanics-sympy.html)\n",
    "\n",
    "Sympy can be used as a CAS tool to solve symbolic expressions. Most equations encountered in introductory clasissical mechanical problems can be solved with pen and paper. But there are e.g. certain complicated integrals, where a table with integral-solutions is needed. In these cases sympy can be used to evaluate the integrals. \n",
    "Furthermore sympy can be used to solve equations and differential equations (which have analytical solutions).\n",
    "\n",
    "Sympy can also be used by students to validate the solutions obtained with pen and paper, to simplify symbolic expressions and to evaluate a symbolic expressions at a specific point. "
   ]
  },
  {
   "attachments": {
    "image.png": {
     "image/png": "[encoded data removed]"
    }
   },
   "cell_type": "markdown",
   "id": "383a02ec",
   "metadata": {},
   "source": [
    "### Problem - integration\n",
    "\n",
    "![image.png](attachment:image.png)"
   ]
  },
  {
   "cell_type": "markdown",
   "id": "63863b74",
   "metadata": {},
   "source": [
    "An object with mass $m$ is in rest on a frictionless surface. The object is attached to a massless and unstrechable rope, which goes through a frictionless hoop and is pulled with a constant force $\\overrightarrow{F_1} = F_1 \\hat{x}$. The hoop is placed in a height $h$ and a horizontal distance $L$ from the object. The force applied to the rope accelerates the object, until it hits a wall in $x = L$. What is the velocity of the object, when it hits the wall in $x = L$?\n",
    "Evaluate the answer for $m = 0.05$ kg, $L = 10$ m, $h = 1.5$ m and $F_1$ = 10 N."
   ]
  },
  {
   "cell_type": "markdown",
   "id": "c804ebd3",
   "metadata": {},
   "source": [
    "### Solution and code\n",
    "\n",
    "Before the object hits the wall it is only accelerated in the $x$-direction, so only the $x$-component of the force $\\overrightarrow{F}$ on the object contributes to the acceleration. The magnitude of the force $\\overrightarrow{F}$ on the object is $F_1$.\n",
    "\n",
    "The magnitude of the $x$-component of the force depends on the $x$-position of the object and is given as\n",
    "\n",
    "$$F_x(x) = F_1 \\frac{L-x}{\\sqrt{(L-x)^2 + h^2}} \\,.$$\n",
    "\n",
    "The final velocity can be computed from the work the force $\\overrightarrow{F}$ does on the object, as \n",
    "$$ W = \\Delta E_{kin} = E_f - E_i = E_f = \\frac{1}{2} m v_f^2.$$\n",
    "\n",
    "The work done on the object is given as\n",
    "$$W = \\int_0^L F_x \\, dx \\,.$$\n",
    "\n",
    "Hence the final velocity can be calculated by solving the equation\n",
    "$$W = \\int_0^L F_x \\, dx = \\frac{1}{2} m v_f^2 \\,\\,\\,\\,\\,\\,\\,\\,\\,\\,\\,\\,\\,\\,\\,\\,\\,\\,\\,\\,\\,\\,\\,\\, (1)$$"
   ]
  },
  {
   "cell_type": "code",
   "execution_count": 24,
   "id": "8a973049",
   "metadata": {},
   "outputs": [
    {
     "data": {
      "text/plain": [
       "'W = '"
      ]
     },
     "metadata": {},
     "output_type": "display_data"
    },
    {
     "data": {
      "text/latex": [
       "$\\displaystyle F_{1} h \\sqrt{\\frac{L^{2}}{h^{2}} + 1} - F_{1} h$"
      ],
      "text/plain": [
       "F1*h*sqrt(L**2/h**2 + 1) - F1*h"
      ]
     },
     "metadata": {},
     "output_type": "display_data"
    },
    {
     "data": {
      "text/plain": [
       "'v_f ='"
      ]
     },
     "metadata": {},
     "output_type": "display_data"
    },
    {
     "data": {
      "text/latex": [
       "$\\displaystyle 1.4142135623731 \\sqrt{\\frac{F_{1} h \\left(\\left(\\frac{L^{2} + h^{2}}{h^{2}}\\right)^{0.5} - 1.0\\right)}{m}}$"
      ],
      "text/plain": [
       "1.4142135623731*sqrt(F1*h*(((L**2 + h**2)/h**2)**0.5 - 1.0)/m)"
      ]
     },
     "metadata": {},
     "output_type": "display_data"
    },
    {
     "data": {
      "image/png": "[encoded data removed]",
      "text/plain": [
       "<Figure size 432x288 with 1 Axes>"
      ]
     },
     "metadata": {
      "needs_background": "light"
     },
     "output_type": "display_data"
    },
    {
     "data": {
      "text/plain": [
       "<sympy.plotting.plot.Plot at 0x1b8476f40f0>"
      ]
     },
     "execution_count": 24,
     "metadata": {},
     "output_type": "execute_result"
    }
   ],
   "source": [
    "# Import methods from sympy (or import the entire sympy library with \"from sympy import*\")\n",
    "from sympy import sqrt, symbols, integrate, Eq, solve, evalf\n",
    "\n",
    "# Define symbols\n",
    "x, F1, L, h, v, m = symbols(\"x, F1, L, h, v, m\")\n",
    "\n",
    "# Define the x-component of the force on the object\n",
    "Fx = F1 * (L-x) / sqrt((L-x)**2 + h**2)\n",
    "\n",
    "# Calculate the work done on the object using sympy.integrate\n",
    "W = integrate(Fx, (x, 0, L))\n",
    "display(\"W = \", W) \n",
    "\n",
    "# Compute the velocity by solving equation (1) using sympy.Eq and sympy.solve\n",
    "E_kin = 1/2 * m * v**2\n",
    "\n",
    "eq = Eq(E_kin, W)\n",
    "v_f = solve(eq, v)\n",
    "\n",
    "# v_f contains two solutions, but we only want the positive one\n",
    "v_f1 = v_f[1]\n",
    "\n",
    "# Simplify simplifies the expression to the \"simplest form\" (there is no clear-cut definition of \"simplest\", though.)\n",
    "display(\"v_f =\", v_f1.simplify())\n",
    "\n",
    "\n",
    "# The expression v_f can be evaluated for specific values of the physical quantities using subs, to substitute the symbol\n",
    "# with a specific value. The sympy.evalf method approximates the solution as a decimal number, which can be rounded\n",
    "# to a specified number of decimals using round. \n",
    "L_, h_, F1_, m_ = 10, 1.5, 10, 0.05\n",
    "\n",
    "v_f2 = v_f1.subs(L, L_).subs(h, h_).subs(F1, F1_).subs(m, m_)\n",
    "\n",
    "\n",
    "# It is also possible to plot a function. Below the force F_x is plotted as a function of x for specific values of L, h and m\n",
    "Fx_ = F1_ * (L_ - x) / sqrt((L_ - x)**2 + h_**2)\n",
    "plot(Fx_, (x, 0, L_), title = \"X component of the force on the object\", xlabel = \"x [m]\", ylabel = \"F_x [N]\")"
   ]
  },
  {
   "cell_type": "code",
   "execution_count": 8,
   "id": "e99b1b7b",
   "metadata": {},
   "outputs": [
    {
     "data": {
      "text/plain": [
       "([1/(exp(1/x) - 1),\n",
       "  2/(exp(2/x) - 1),\n",
       "  3/(exp(3/x) - 1),\n",
       "  4/(exp(4/x) - 1),\n",
       "  5/(exp(5/x) - 1),\n",
       "  6/(exp(6/x) - 1),\n",
       "  7/(exp(7/x) - 1),\n",
       "  8/(exp(8/x) - 1),\n",
       "  9/(exp(9/x) - 1),\n",
       "  10/(exp(10/x) - 1),\n",
       "  11/(exp(11/x) - 1),\n",
       "  12/(exp(12/x) - 1),\n",
       "  13/(exp(13/x) - 1),\n",
       "  14/(exp(14/x) - 1),\n",
       "  15/(exp(15/x) - 1),\n",
       "  16/(exp(16/x) - 1),\n",
       "  17/(exp(17/x) - 1),\n",
       "  18/(exp(18/x) - 1),\n",
       "  19/(exp(19/x) - 1),\n",
       "  20/(exp(20/x) - 1),\n",
       "  21/(exp(21/x) - 1),\n",
       "  22/(exp(22/x) - 1),\n",
       "  23/(exp(23/x) - 1),\n",
       "  24/(exp(24/x) - 1),\n",
       "  25/(exp(25/x) - 1),\n",
       "  26/(exp(26/x) - 1),\n",
       "  27/(exp(27/x) - 1),\n",
       "  28/(exp(28/x) - 1),\n",
       "  29/(exp(29/x) - 1),\n",
       "  30/(exp(30/x) - 1),\n",
       "  31/(exp(31/x) - 1),\n",
       "  32/(exp(32/x) - 1),\n",
       "  33/(exp(33/x) - 1),\n",
       "  34/(exp(34/x) - 1),\n",
       "  35/(exp(35/x) - 1),\n",
       "  36/(exp(36/x) - 1),\n",
       "  37/(exp(37/x) - 1),\n",
       "  38/(exp(38/x) - 1),\n",
       "  39/(exp(39/x) - 1),\n",
       "  40/(exp(40/x) - 1),\n",
       "  41/(exp(41/x) - 1),\n",
       "  42/(exp(42/x) - 1),\n",
       "  43/(exp(43/x) - 1),\n",
       "  44/(exp(44/x) - 1),\n",
       "  45/(exp(45/x) - 1),\n",
       "  46/(exp(46/x) - 1),\n",
       "  47/(exp(47/x) - 1),\n",
       "  48/(exp(48/x) - 1),\n",
       "  49/(exp(49/x) - 1)],\n",
       " 0)"
      ]
     },
     "execution_count": 8,
     "metadata": {},
     "output_type": "execute_result"
    }
   ],
   "source": [
    "from sympy import*\n",
    "\n",
    "x = symbols(\"x\")\n",
    "\n",
    "q = list(range(1, 50))\n",
    "\n",
    "l = []\n",
    "\n",
    "for q in q:\n",
    "    \n",
    "    el = q / (exp(q / x) -1)\n",
    "    l.append(el)\n",
    "l, limit(sum(l), x, 0)"
   ]
  },
  {
   "cell_type": "code",
   "execution_count": null,
   "id": "9c410028",
   "metadata": {},
   "outputs": [],
   "source": []
  }
 ],
 "metadata": {
  "kernelspec": {
   "display_name": "Python 3 (ipykernel)",
   "language": "python",
   "name": "python3"
  },
  "language_info": {
   "codemirror_mode": {
    "name": "ipython",
    "version": 3
   },
   "file_extension": ".py",
   "mimetype": "text/x-python",
   "name": "python",
   "nbconvert_exporter": "python",
   "pygments_lexer": "ipython3",
   "version": "3.7.3"
  }
 },
 "nbformat": 4,
 "nbformat_minor": 5
}
