{
 "cells": [
  {
   "cell_type": "markdown",
   "metadata": {},
   "source": [
    "# Experimental physics: plotting\n",
    "[**Download this notebook**](https://ifa-edu-it.github.io/learning-material/courses/experimental-physics/plotting.ipynb)"
   ]
  },
  {
   "cell_type": "markdown",
   "metadata": {},
   "source": [
    "Once data has been collected, it is often useful to plot it. This notebook will show you how to do this in Python using the `matplotlib` library. We will also see how to save your plots as images for use in reports and presentations.\n",
    "\n",
    "Let's start by importing the `matplotlib` library. We will also import the `numpy` library, which we will use to generate some data to plot."
   ]
  },
  {
   "cell_type": "code",
   "execution_count": 2,
   "metadata": {},
   "outputs": [],
   "source": [
    "import matplotlib.pyplot as plt\n",
    "import numpy as np\n",
    "\n",
    "%matplotlib inline"
   ]
  },
  {
   "cell_type": "markdown",
   "metadata": {},
   "source": [
    "If you are wondering why we use the `as` keyword, it is because we can give a library a nickname. This is useful if we want to use a library with a long name, or if we want to use a library with a name that is already used by another library. The above \"nicknames\" are the most common ones, but you can use any name you want, though it is good practice to use what is commonly used by the community. This way, if you share your code with others, they will be able to understand it more easily and they will be able to support you if you have any problems.\n",
    "\n",
    "The final line `%matplotlib inline` is a special command that is specific to Jupyter notebooks. It tells Jupyter to display the plots inside the notebook, rather than in a separate window. This command may vary depend on your Python environment, but for now do not worry about it, or google it if you are curious."
   ]
  }
 ],
 "metadata": {
  "kernelspec": {
   "display_name": "Python 3.7.8 64-bit",
   "language": "python",
   "name": "python3"
  },
  "language_info": {
   "codemirror_mode": {
    "name": "ipython",
    "version": 3
   },
   "file_extension": ".py",
   "mimetype": "text/x-python",
   "name": "python",
   "nbconvert_exporter": "python",
   "pygments_lexer": "ipython3",
   "version": "3.7.8"
  },
  "orig_nbformat": 4,
  "vscode": {
   "interpreter": {
    "hash": "949777d72b0d2535278d3dc13498b2535136f6dfe0678499012e853ee9abcab1"
   }
  }
 },
 "nbformat": 4,
 "nbformat_minor": 2
}
