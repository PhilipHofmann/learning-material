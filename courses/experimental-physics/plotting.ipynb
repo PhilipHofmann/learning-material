{
 "cells": [
  {
   "cell_type": "markdown",
   "metadata": {},
   "source": [
    "# Experimental physics: plotting\n",
    "[**Download this notebook**](https://ifa-edu-it.github.io/learning-material/courses/experimental-physics/plotting.ipynb)"
   ]
  },
  {
   "cell_type": "markdown",
   "metadata": {},
   "source": [
    "Once data has been collected, it is often useful to plot it. This notebook will show you how to do this in Python using the `matplotlib` library. We will also see how to save your plots as images for use in reports and presentations.\n",
    "\n",
    "Let's start by importing the `matplotlib` library. We will also import the `numpy` library, which we will use to generate some data to plot."
   ]
  },
  {
   "cell_type": "code",
   "execution_count": 3,
   "metadata": {},
   "outputs": [],
   "source": [
    "import matplotlib.pyplot as plt\n",
    "import numpy as np\n",
    "\n",
    "%matplotlib inline"
   ]
  },
  {
   "cell_type": "markdown",
   "metadata": {},
   "source": [
    "If you are wondering why we use the `as` keyword, it is because we can give a library a nickname. This is useful if we want to use a library with a long name, or if we want to use a library with a name that is already used by another library. The above \"nicknames\" are the most common ones, but you can use any name you want, though it is good practice to use what is commonly used by the community. This way, if you share your code with others, they will be able to understand it more easily and they will be able to support you if you have any problems.\n",
    "\n",
    "The final line `%matplotlib inline` is a special command that is specific to Jupyter notebooks. It tells Jupyter to display the plots inside the notebook, rather than in a separate window. This command may vary depend on your Python environment, but for now do not worry about it, or google it if you are curious.\n",
    "\n",
    "Let's get some data as per the previous exercise:"
   ]
  },
  {
   "cell_type": "code",
   "execution_count": 27,
   "metadata": {},
   "outputs": [],
   "source": [
    "data = np.loadtxt('data/cosmic_data.cvs', dtype='str',delimiter=';')\n",
    "coincs = data[2:,9].astype(int)"
   ]
  },
  {
   "cell_type": "markdown",
   "metadata": {},
   "source": [
    "The measurements were obtained at different detector angles. These were noted manually:"
   ]
  },
  {
   "cell_type": "code",
   "execution_count": 36,
   "metadata": {},
   "outputs": [],
   "source": [
    "angles = np.array([0,23,30,48,59,65]) # Degrees"
   ]
  },
  {
   "cell_type": "markdown",
   "metadata": {},
   "source": [
    "The basic syntax for plotting data is to make a `figure` and `ax` object. Think of the `figure` as the canvas on which you will draw your plot(s), and the `ax` as the individual plot. The `figure` and `ax` objects are created using the `plt.subplots()` function. The plot can then be modified by calling methods on the `ax` object. For example, to plot the data we just generated, we can use the `ax.plot()` method:"
   ]
  },
  {
   "cell_type": "code",
   "execution_count": 47,
   "metadata": {},
   "outputs": [
    {
     "data": {
      "text/plain": [
       "<matplotlib.legend.Legend at 0x7fde12890cd0>"
      ]
     },
     "execution_count": 47,
     "metadata": {},
     "output_type": "execute_result"
    },
    {
     "data": {
      "image/png": "[encoded data removed]",
      "text/plain": [
       "<Figure size 432x288 with 1 Axes>"
      ]
     },
     "metadata": {
      "needs_background": "light"
     },
     "output_type": "display_data"
    }
   ],
   "source": [
    "fig, ax = plt.subplots()\n",
    "ax.plot(angles,coincs,'o',label='Experimental data')\n",
    "# --- Plot settings ---\n",
    "ax.set_xlabel('Angle (degrees)')\n",
    "ax.set_ylabel('Coincidences')\n",
    "ax.set_title('Coincidences vs Angle')\n",
    "ax.grid() # Add grid\n",
    "ax.legend(frameon=True, fontsize='12') # Add legend with frame (on by default)\n",
    "# ---------------------"
   ]
  },
  {
   "cell_type": "markdown",
   "metadata": {},
   "source": [
    "We now have a plot! As shown above, setting the axis labels and plot title is quite easy. To export this plot as an image, we can use the `fig.savefig()` method. This method takes a filename as an argument, and saves the plot as an image in the same directory as the notebook. The image format is determined by the file extension. For example, to save the plot as a PNG image, we can use: `fig.savefig('my_plot.png')`. It is however a good idea to use a vector image format such as PDF or SVG, as these can be scaled to any size without loss of quality. To save the plot as a PDF, we can use: `fig.savefig('my_plot.pdf')`:"
   ]
  },
  {
   "cell_type": "code",
   "execution_count": 48,
   "metadata": {},
   "outputs": [],
   "source": [
    "fig.savefig('my_plot.pdf')"
   ]
  },
  {
   "cell_type": "markdown",
   "metadata": {},
   "source": [
    "This .pdf file can easily be used in a $\\LaTeX$ document using the \\includegraphics environment.\n",
    "\n",
    "This has only been a very brief overview of the capabilities of the `matplotlib` library. For more information, see the [matplotlib documentation](https://matplotlib.org/contents.html). You can also find many examples of plots on the internet, and you can use these as a starting point for your own plots. For example, [this page](https://matplotlib.org/gallery/index.html) shows many examples of plots that can be created using `matplotlib`.\n",
    "\n",
    "In general, matplotlib is a very commonly used library, and by the power of Google, it is possible to do most things that you will need."
   ]
  }
 ],
 "metadata": {
  "kernelspec": {
   "display_name": "Python 3.7.8 64-bit",
   "language": "python",
   "name": "python3"
  },
  "language_info": {
   "codemirror_mode": {
    "name": "ipython",
    "version": 3
   },
   "file_extension": ".py",
   "mimetype": "text/x-python",
   "name": "python",
   "nbconvert_exporter": "python",
   "pygments_lexer": "ipython3",
   "version": "3.7.8"
  },
  "orig_nbformat": 4,
  "vscode": {
   "interpreter": {
    "hash": "949777d72b0d2535278d3dc13498b2535136f6dfe0678499012e853ee9abcab1"
   }
  }
 },
 "nbformat": 4,
 "nbformat_minor": 2
}
