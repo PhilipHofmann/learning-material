{
 "cells": [
  {
   "cell_type": "markdown",
   "metadata": {},
   "source": [
    "# Experimental physics: data and plotting\n",
    "[**Download this notebook**](https://ifa-edu-it.github.io/learning-material/courses/experimental-physics/data-and-plotting.ipynb.ipynb)"
   ]
  },
  {
   "cell_type": "markdown",
   "metadata": {},
   "source": [
    "An important part of experimental physics is to collect data and to analyze it. In this notebook we will learn how to collect data and how to plot it. Later we will also learn how to fit a function to the data and use it to extract information from the data.\n",
    "\n",
    "## Collecting data\n",
    "\n",
    "### Manual approach\n",
    "When conducting an experiment, data may be collected in a number of ways. The simplest is manual data collection, where data is written down by hand. This can be done in multiple ways, but one good way is to use numpy arrays. Lets start off by importing numpy and filling some dummy data."
   ]
  },
  {
   "cell_type": "code",
   "execution_count": 3,
   "metadata": {},
   "outputs": [],
   "source": [
    "import numpy as np\n",
    "# It is a good idea to keep your imports in a seperate cell so as to not\n",
    "# clutter your code with them. Furthermore, repeatedly importing the same\n",
    "# modules can be slow, so it is good practice to import them only once."
   ]
  },
  {
   "cell_type": "code",
   "execution_count": 6,
   "metadata": {},
   "outputs": [],
   "source": [
    "\n",
    "angles = np.array([0,14,36,42,55,57,61,64,74,88,91]) #degrees\n",
    "values = np.array([0.05, 0.25, 0.59, 0.64, 0.80, 0.83, 0.87, 0.91, 0.96, 1.00, 1.02]) #mV"
   ]
  },
  {
   "cell_type": "markdown",
   "metadata": {},
   "source": [
    "## Plotting"
   ]
  },
  {
   "cell_type": "code",
   "execution_count": 7,
   "metadata": {},
   "outputs": [],
   "source": [
    "import matplotlib.pyplot as plt\n",
    "%matplotlib inline"
   ]
  },
  {
   "cell_type": "code",
   "execution_count": 8,
   "metadata": {},
   "outputs": [
    {
     "data": {
      "text/plain": [
       "[<matplotlib.lines.Line2D at 0x7fc285c90c90>]"
      ]
     },
     "execution_count": 8,
     "metadata": {},
     "output_type": "execute_result"
    },
    {
     "data": {
      "image/png": "[encoded data removed]",
      "text/plain": [
       "<Figure size 432x288 with 1 Axes>"
      ]
     },
     "metadata": {
      "needs_background": "light"
     },
     "output_type": "display_data"
    }
   ],
   "source": [
    "fig,ax = plt.subplots()\n",
    "ax.plot(angles,values,'o')"
   ]
  },
  {
   "cell_type": "code",
   "execution_count": null,
   "metadata": {},
   "outputs": [],
   "source": []
  }
 ],
 "metadata": {
  "kernelspec": {
   "display_name": "Python 3.7.8 64-bit",
   "language": "python",
   "name": "python3"
  },
  "language_info": {
   "codemirror_mode": {
    "name": "ipython",
    "version": 3
   },
   "file_extension": ".py",
   "mimetype": "text/x-python",
   "name": "python",
   "nbconvert_exporter": "python",
   "pygments_lexer": "ipython3",
   "version": "3.7.8"
  },
  "orig_nbformat": 4,
  "vscode": {
   "interpreter": {
    "hash": "949777d72b0d2535278d3dc13498b2535136f6dfe0678499012e853ee9abcab1"
   }
  }
 },
 "nbformat": 4,
 "nbformat_minor": 2
}
