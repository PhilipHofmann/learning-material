{
 "cells": [
  {
   "cell_type": "markdown",
   "metadata": {},
   "source": [
    "# Experimental physics: data collection\n",
    "[**Download this notebook**](https://ifa-edu-it.github.io/learning-material/courses/experimental-physics/data.ipynb)"
   ]
  },
  {
   "cell_type": "markdown",
   "metadata": {},
   "source": [
    "An important part of experimental physics is to collect data and to analyze it. In this notebook we will learn how to collect data, manually and from files. Later we will also learn how to fit a function to the data and use it to extract information from the data.\n",
    "\n",
    "## Collecting data\n",
    "\n",
    "### Manual approach\n",
    "When conducting an experiment, data may be collected in a number of ways. The simplest is manual data collection, where data is written down by hand. This can be done in multiple ways, but one good way is to use numpy arrays. Lets start off by importing numpy and filling some dummy data."
   ]
  },
  {
   "cell_type": "code",
   "execution_count": 2,
   "metadata": {},
   "outputs": [],
   "source": [
    "import numpy as np\n",
    "# It is a good idea to keep your imports in a seperate cell so as to not\n",
    "# clutter your code with them. Furthermore, repeatedly importing the same\n",
    "# modules can be slow, so it is good practice to import them only once."
   ]
  },
  {
   "cell_type": "code",
   "execution_count": 6,
   "metadata": {},
   "outputs": [],
   "source": [
    "\n",
    "angles = np.array([0,14,36,42,55,57,61,64,74,88,91]) #degrees\n",
    "values = np.array([0.05, 0.25, 0.59, 0.64, 0.80, 0.83, 0.87, 0.91, 0.96, 1.00, 1.02]) #mV"
   ]
  },
  {
   "cell_type": "markdown",
   "metadata": {},
   "source": [
    "### Automatic approach: Loading data from files\n",
    "\n",
    "In many cases, data is collected automatically and stored in a file. In this case, we can use numpy to load the data from the file. We have provided a file called `cosmic_data.cvs`, which contains data from an experiment in which cosmic rays were measured at different detector positions. Download the data [here](https://ifa-edu-it.github.io/learning-material/courses/experimental-physics/data/cosmic_data.cvs) and place it in a folder called `data` next to this notebook. Let's open the file and see what it contains. Here are the first 3 lines of the file:\n",
    "\n",
    "```text\n",
    "num ; coinc ; date ; time ; sec ; RecTime ; A ; B ; C ; COINC ; Pressure ; Temp ; Humidity ; Altitude\n",
    "\n",
    "1; A-C; 8/11/2021; 10:10:35; 0; 600; 0; 0; 0; 0; 1013.56; 21.15; 38.89; -2.55\n",
    "\n",
    "2; A-C; 8/11/2021; 10:21:6; 623; 600; 14875; 129616; 7772; 576; 1013.56; 21.15; 38.89; -2.55\n",
    "```\n",
    "\n",
    "This seems somwhat messy, but we can identify a few things:\n",
    "- The first line contains the names of the columns\n",
    "- The columns are separated by semicolons (`;`)\n",
    "- The data is in a table format, with each row containing data for one measurement\n",
    "- The data has both numbers and text\n",
    "\n",
    "To load this we can use `np.loadtxt` with the keyword arguments `dtype=str` and `delimiter=';'`. This will load the data as a numpy array of strings, with each row containing one measurement:"
   ]
  },
  {
   "cell_type": "code",
   "execution_count": 46,
   "metadata": {},
   "outputs": [
    {
     "name": "stdout",
     "output_type": "stream",
     "text": [
      "Headers:  ['num ' ' coinc ' ' date ' ' time ' ' sec ' ' RecTime ' ' A ' ' B ' ' C '\n",
      " ' COINC ' ' Pressure ' ' Temp ' ' Humidity ' ' Altitude ']\n",
      "---------------------------------------------------\n",
      "First row:  ['1' ' A-C' ' 8/11/2021' ' 10:10:35' ' 0' ' 600' ' 0' ' 0' ' 0' ' 0'\n",
      " ' 1013.56' ' 21.15' ' 38.89' ' -2.55']\n",
      "---------------------------------------------------\n",
      "Last row:  ['7' ' A-C' ' 8/11/2021' ' 11:14:33' ' 3829' ' 600' ' 8905' ' 99329'\n",
      " ' 5339' ' 110' ' 1014.32' ' 23.85' ' 31.34' ' -8.90']\n",
      "---------------------------------------------------\n",
      "dtype:  <class 'numpy.str_'>\n",
      "---------------------------------------------------\n",
      "Shape:  (8, 14)\n"
     ]
    }
   ],
   "source": [
    "data = np.loadtxt('data/cosmic_data.cvs', dtype='str',delimiter=';')\n",
    "print('Headers: ',data[0])\n",
    "print('---------------------------------------------------')\n",
    "print('First row: ',data[1])\n",
    "print('---------------------------------------------------')\n",
    "print('Last row: ',data[-1])\n",
    "print('---------------------------------------------------')\n",
    "print('dtype: ',type(data[0,0]))\n",
    "print('---------------------------------------------------')\n",
    "print('Shape: ',data.shape)"
   ]
  },
  {
   "cell_type": "markdown",
   "metadata": {},
   "source": [
    "We now have the data in a (8 x 14) numpy array, but it is still a bit messy. We can use **array slicing** to select the data we need. For this experiment we are interested in the number of cosmic rays detected by both detector A-C. This is the number in the column 'COINC', which is the 10th column, i.e. index 9. We can select this column using the following syntax:"
   ]
  },
  {
   "cell_type": "code",
   "execution_count": 52,
   "metadata": {},
   "outputs": [
    {
     "name": "stdout",
     "output_type": "stream",
     "text": [
      "COINCS:  [' COINC ' ' 0' ' 576' ' 491' ' 423' ' 263' ' 172' ' 110']\n"
     ]
    }
   ],
   "source": [
    "coincs = data[:,9]\n",
    "print('COINCS: ', coincs)"
   ]
  },
  {
   "cell_type": "markdown",
   "metadata": {},
   "source": [
    "Notice the double index syntax. the `:` means that we want all rows, and the `9` means that we want the 10th column. We dont need the first row, which contains the column names, so we can select all rows except the first one using the following syntax:"
   ]
  },
  {
   "cell_type": "code",
   "execution_count": 53,
   "metadata": {},
   "outputs": [
    {
     "name": "stdout",
     "output_type": "stream",
     "text": [
      "COINCS:  [' 0' ' 576' ' 491' ' 423' ' 263' ' 172' ' 110']\n"
     ]
    }
   ],
   "source": [
    "coincs = data[1:,9]\n",
    "print('COINCS: ', coincs)"
   ]
  },
  {
   "cell_type": "markdown",
   "metadata": {},
   "source": [
    "This is a neat syntax which is well worth remembering. Keep in mind that the first index is the row and the second is the column. We can summarize the syntax as:\n",
    "\n",
    "```python\n",
    "array[start_row:end_row, start_column:end_column]\n",
    "```\n",
    "\n",
    "By not putting a start or end index, we can select all rows or all columns. We can also use negative indices to count from the end of the array.\n",
    "\n",
    "The numbers are still strings (you can tell by the `'` symbols surrounding each entry), so we need to convert them to integers. We can do this using the `astype` method:"
   ]
  },
  {
   "cell_type": "code",
   "execution_count": 56,
   "metadata": {},
   "outputs": [
    {
     "name": "stdout",
     "output_type": "stream",
     "text": [
      "COINCS:  [  0 576 491 423 263 172 110]\n",
      "REC TIMES:  [600. 600. 600. 600. 600. 600. 600.]\n"
     ]
    }
   ],
   "source": [
    "coincs = coincs.astype(int)\n",
    "recTimes = data[1:,5].astype(float) # Lets collect the integration times as well\n",
    "print('COINCS: ', coincs)\n",
    "print('REC TIMES: ', recTimes)"
   ]
  },
  {
   "cell_type": "markdown",
   "metadata": {},
   "source": [
    "We have now successfully loaded the data from the file and extracted the relevant information. We can now plot the data using matplotlib. This we will do in [the next notebook](https://ifa-edu-it.github.io/learning-material/courses/experimental-physics/plotting.ipynb)."
   ]
  }
 ],
 "metadata": {
  "kernelspec": {
   "display_name": "Python 3.7.8 64-bit",
   "language": "python",
   "name": "python3"
  },
  "language_info": {
   "codemirror_mode": {
    "name": "ipython",
    "version": 3
   },
   "file_extension": ".py",
   "mimetype": "text/x-python",
   "name": "python",
   "nbconvert_exporter": "python",
   "pygments_lexer": "ipython3",
   "version": "3.7.8"
  },
  "orig_nbformat": 4,
  "vscode": {
   "interpreter": {
    "hash": "949777d72b0d2535278d3dc13498b2535136f6dfe0678499012e853ee9abcab1"
   }
  }
 },
 "nbformat": 4,
 "nbformat_minor": 2
}
