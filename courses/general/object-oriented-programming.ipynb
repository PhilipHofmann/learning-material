{
 "cells": [
  {
   "cell_type": "markdown",
   "metadata": {},
   "source": [
    "# Introduction to object-oriented programming\n",
    "[**Download this notebook**](https://ifa-edu-it.github.io/learning-material/courses/general/object-oriented-programming.ipynb)"
   ]
  },
  {
   "cell_type": "markdown",
   "metadata": {},
   "source": [
    "In \"regular\" code, we have variables and functions. Variables are used to store data, and functions are used to perform operations on that data. In object-oriented programming, we have variables and functions, but they are organized into objects. An object is a collection of variables and functions that are related to each other. For example, a `Car` object might have variables for the car's color, make, and model, and functions for accelerating, braking, and honking the horn. In this notebook, we'll learn how to create our own objects and how to use them.\n",
    "\n",
    "## Getting started\n",
    "\n",
    "To get started, let's look at the basic syntax for creating such an object:"
   ]
  },
  {
   "cell_type": "code",
   "execution_count": 1,
   "metadata": {},
   "outputs": [],
   "source": [
    "class Car:\n",
    "    def __init__(self, color, make, model):\n",
    "        self.color = color\n",
    "        self.make = make\n",
    "        self.model = model\n",
    "\n",
    "    def honk(self):\n",
    "        print(\"Beep beep!\")\n",
    "\n",
    "    def accelerate(self):\n",
    "        print(\"Vroom vroom!\")\n",
    "\n",
    "    def brake(self):\n",
    "        print(\"Screech!\")"
   ]
  },
  {
   "cell_type": "markdown",
   "metadata": {},
   "source": [
    "The above code declares a new object type using the `class` keyword followed by the name of the new class name. A class is a type of \"prototype\" object, which is an outline of how an object of that class looks like. To make a `Car` object we can e.g. call the `Car` class as a function and try to use the methods of the new `Car` object:"
   ]
  },
  {
   "cell_type": "code",
   "execution_count": 4,
   "metadata": {},
   "outputs": [
    {
     "name": "stdout",
     "output_type": "stream",
     "text": [
      "Beep beep!\n",
      "Vroom vroom!\n",
      "Screech!\n"
     ]
    }
   ],
   "source": [
    "my_car = Car(\"red\", \"Ford\", \"Mustang\")\n",
    "my_car.honk()\n",
    "my_car.accelerate()\n",
    "my_car.brake()"
   ]
  },
  {
   "cell_type": "markdown",
   "metadata": {},
   "source": [
    "The above code creates a new `Car` object and assigns it to the variable `my_car`. The `my_car` variable is now a reference to the new `Car` object. We can use the `my_car` variable to access the variables and functions of the `Car` object. For example, we can access the `color` variable of the `Car` object using the following syntax:"
   ]
  },
  {
   "cell_type": "code",
   "execution_count": 5,
   "metadata": {},
   "outputs": [
    {
     "name": "stdout",
     "output_type": "stream",
     "text": [
      "The color of my_car is red\n"
     ]
    }
   ],
   "source": [
    "print('The color of my_car is', my_car.color)"
   ]
  },
  {
   "cell_type": "markdown",
   "metadata": {},
   "source": [
    "The variable 'color' is set when the object was constructed as shown earlier. When making a new object it runs the `__init__()` method, which handles the arguments passed to the function. In this case, the `__init__()` method takes multiple arguments. Most of them are self explanatory, but the `self` argument is specific to classes. It acts as a reference to the object itself within the class.\n",
    "\n",
    "This may sound complicated, but it's actually quite simple and useful. Let's look at an example:"
   ]
  },
  {
   "cell_type": "code",
   "execution_count": 6,
   "metadata": {},
   "outputs": [],
   "source": [
    "class Car:\n",
    "    def __init__(self, color, make, model):\n",
    "        self.color = color\n",
    "        self.make = make\n",
    "        self.model = model\n",
    "\n",
    "    def describe(self):\n",
    "        print(\"This car is a\", self.color, self.make, self.model)"
   ]
  },
  {
   "cell_type": "markdown",
   "metadata": {},
   "source": [
    "Here we have introduced the `describe` function, which prints out information about the specific object using the `self` argument:"
   ]
  },
  {
   "cell_type": "code",
   "execution_count": 7,
   "metadata": {},
   "outputs": [
    {
     "name": "stdout",
     "output_type": "stream",
     "text": [
      "This car is a red Ford Mustang\n"
     ]
    }
   ],
   "source": [
    "my_car = Car(\"red\", \"Ford\", \"Mustang\")\n",
    "my_car.describe()"
   ]
  },
  {
   "cell_type": "markdown",
   "metadata": {},
   "source": [
    "As shown, functions within the class can now access information about the object itself. "
   ]
  },
  {
   "cell_type": "markdown",
   "metadata": {},
   "source": [
    "## Magic functions\n",
    "\n",
    "When creating a new class, apart from the `__init__()` method, one can also define other so-called *magic functions*. These functions generally define how the object behaves when used in certain ways. For example, the `__str__()` method defines how the object is printed when using the `print()` function, and the `__add__()` method defines how the object behaves when using the `+` operator. Let's look at an example where we construct a new class useful for storing complex numbers:"
   ]
  },
  {
   "cell_type": "code",
   "execution_count": 8,
   "metadata": {},
   "outputs": [],
   "source": [
    "class Complex:\n",
    "    def __init__(self, real, imaginary):\n",
    "        self.real = real\n",
    "        self.imaginary = imaginary\n",
    "    \n",
    "    def __str__(self):\n",
    "        return f\"{self.real} + {self.imaginary}i\"\n",
    "    \n",
    "    def __add__(self, other):\n",
    "        return Complex(self.real + other.real, self.imaginary + other.imaginary)"
   ]
  },
  {
   "cell_type": "markdown",
   "metadata": {},
   "source": [
    "Here, the two mentioned magic functions are defined. Take a minute to understand the `_add__(self, other)` method. It returns a new object of type Complex, in which the two real and imaginary parts are added together. Lets see how they work:"
   ]
  },
  {
   "cell_type": "code",
   "execution_count": 9,
   "metadata": {},
   "outputs": [
    {
     "name": "stdout",
     "output_type": "stream",
     "text": [
      "4 + 6i\n"
     ]
    }
   ],
   "source": [
    "c1 = Complex(1, 2)\n",
    "c2 = Complex(3, 4)\n",
    "print(c1 + c2)"
   ]
  },
  {
   "cell_type": "markdown",
   "metadata": {},
   "source": [
    "We see that the `+` operator works as expected, and the `print()` function prints out the complex number in a nice way. For more magic functions for classes, see [this website](https://www.tutorialsteacher.com/python/magic-methods-in-python#:~:text=Magic%20methods%20in%20Python%20are,class%20on%20a%20certain%20action.). While they are not needed all the time, it's nice to know what they are in case you need them.\n",
    "\n",
    "NOTE: Do not use the above code for complex numbers, as it is not very efficient. The above code is just an example to show how magic functions work."
   ]
  },
  {
   "cell_type": "markdown",
   "metadata": {},
   "source": [
    "## Round up\n",
    "\n",
    "This has been a brief overview into the syntax and applications of classes in Python. Different languages have different ways of implementing classes, but the general idea is the same. In some languages they are much more central to the language than in Python, but in Python they are still very useful."
   ]
  },
  {
   "cell_type": "markdown",
   "metadata": {},
   "source": []
  }
 ],
 "metadata": {
  "kernelspec": {
   "display_name": "Python 3.7.8 64-bit",
   "language": "python",
   "name": "python3"
  },
  "language_info": {
   "codemirror_mode": {
    "name": "ipython",
    "version": 3
   },
   "file_extension": ".py",
   "mimetype": "text/x-python",
   "name": "python",
   "nbconvert_exporter": "python",
   "pygments_lexer": "ipython3",
   "version": "3.7.8"
  },
  "orig_nbformat": 4,
  "vscode": {
   "interpreter": {
    "hash": "949777d72b0d2535278d3dc13498b2535136f6dfe0678499012e853ee9abcab1"
   }
  }
 },
 "nbformat": 4,
 "nbformat_minor": 2
}
