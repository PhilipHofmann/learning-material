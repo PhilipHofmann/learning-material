{
 "cells": [
  {
   "cell_type": "markdown",
   "metadata": {},
   "source": [
    "# Introduction to SymPy (1)\n",
    "\n",
    "[**Download this notebook**](https://ifa-edu-it.github.io/learning-material/courses/calculus/sympy-intro.ipynb)\n",
    "\n",
    "This notebook is a quick introduction to SymPy, a Python library for symbolic mathematics.  It is based on the SymPy tutorial at http://docs.sympy.org/latest/tutorial/index.html."
   ]
  },
  {
   "cell_type": "markdown",
   "metadata": {},
   "source": [
    "### 1. Importing `sympy`\n",
    "Sympy is a part of the Anaconda standard package and should thus be readily available in your Python environment.  To use it, we import it as follows:\n"
   ]
  },
  {
   "cell_type": "code",
   "execution_count": 43,
   "metadata": {},
   "outputs": [],
   "source": [
    "from sympy import *"
   ]
  },
  {
   "cell_type": "markdown",
   "metadata": {},
   "source": [
    "This is technically bad practice as its not good to import everything from a module into the global namespace.  However, for the purposes of this notebook, we will do it anyway. The reason is that we will be using a lot of functions from the `sympy` module and it is easier to just import everything. If you are wondering why this may be a bad idea, see [this](https://stackoverflow.com/questions/2386714/why-is-import-bad) StackOverflow post."
   ]
  },
  {
   "cell_type": "markdown",
   "metadata": {},
   "source": [
    "### 2. Getting started"
   ]
  },
  {
   "cell_type": "markdown",
   "metadata": {},
   "source": [
    "Programming languages are excellent for numerical calculations, but they are usually not designed for symbolic calculations. For this, we need a library that can handle symbolic expressions.  The `sympy` library is designed for this purpose.  It can handle symbolic expressions, solve equations, and perform calculus operations along with much more.  It is also very fast and can handle large expressions. Let's try defining some symbolic expressions and see what we can do with them:"
   ]
  },
  {
   "cell_type": "code",
   "execution_count": 44,
   "metadata": {},
   "outputs": [
    {
     "data": {
      "text/latex": [
       "$\\displaystyle \\eta + a x^{2} + b x$"
      ],
      "text/plain": [
       "          2      \n",
       "\\eta + a⋅x  + b⋅x"
      ]
     },
     "metadata": {},
     "output_type": "display_data"
    }
   ],
   "source": [
    "x,a,b,eta = symbols('x a b \\eta') # define symbols\n",
    "\n",
    "# define a function\n",
    "f = a*x**2 + b*x + eta\n",
    "\n",
    "# display (print) the function\n",
    "display(f)"
   ]
  },
  {
   "cell_type": "markdown",
   "metadata": {},
   "source": [
    "As demonstrated, we can define symbols and symbolic expressons and show them in a nice format using the `symbols` and `display` methods. The function `f` defined above is not like a regular Python function which you can call with a number as an argument.  Instead, it is a symbolic expression which can be evaluated for a specific value of `x`, or any other symbol within the expression.  This is done using the `subs` function (short for substitute):"
   ]
  },
  {
   "cell_type": "code",
   "execution_count": 45,
   "metadata": {},
   "outputs": [
    {
     "data": {
      "text/latex": [
       "$\\displaystyle \\eta + 4 a + 2 b$"
      ],
      "text/plain": [
       "\\eta + 4⋅a + 2⋅b"
      ]
     },
     "metadata": {},
     "output_type": "display_data"
    }
   ],
   "source": [
    "display(f.subs(x,2))"
   ]
  },
  {
   "cell_type": "markdown",
   "metadata": {},
   "source": [
    "### 3. Differentiation and integration\n",
    "\n",
    "As shown below, `sympy` can perform differentiation and integration.  The `diff` function takes two arguments: the expression to differentiate and the variable with respect to which to differentiate.  The `integrate` function takes two arguments: the expression to integrate and the variable with respect to which to integrate."
   ]
  },
  {
   "cell_type": "code",
   "execution_count": 46,
   "metadata": {},
   "outputs": [
    {
     "data": {
      "text/latex": [
       "$\\displaystyle 2 a x + b$"
      ],
      "text/plain": [
       "2⋅a⋅x + b"
      ]
     },
     "metadata": {},
     "output_type": "display_data"
    },
    {
     "data": {
      "text/latex": [
       "$\\displaystyle \\eta x + \\frac{a x^{3}}{3} + \\frac{b x^{2}}{2}$"
      ],
      "text/plain": [
       "            3      2\n",
       "         a⋅x    b⋅x \n",
       "\\eta⋅x + ──── + ────\n",
       "          3      2  "
      ]
     },
     "metadata": {},
     "output_type": "display_data"
    }
   ],
   "source": [
    "# Derivative wrt. x\n",
    "df_dx = diff(f, x)\n",
    "display(df_dx)\n",
    "\n",
    "# integral wrt. x\n",
    "int_f_dx = integrate(f, x)\n",
    "display(int_f_dx)"
   ]
  },
  {
   "cell_type": "markdown",
   "metadata": {},
   "source": [
    "Using the syntax for integration shown above, indefinite integrals can be computed. To compute definite integrals, we can provide the limits of integration as a tuple as the second argument to the `integrate` function. Here we compute the definite integral of $f(x)$ from $x=0$ to $x=1$:"
   ]
  },
  {
   "cell_type": "code",
   "execution_count": 51,
   "metadata": {},
   "outputs": [
    {
     "data": {
      "text/latex": [
       "$\\displaystyle \\eta + \\frac{a}{3} + \\frac{b}{2}$"
      ],
      "text/plain": [
       "       a   b\n",
       "\\eta + ─ + ─\n",
       "       3   2"
      ]
     },
     "metadata": {},
     "output_type": "display_data"
    }
   ],
   "source": [
    "int_start = 0\n",
    "int_end = 1\n",
    "\n",
    "int_f_dx_0_1 = integrate(f,(x,int_start,int_end))\n",
    "display(int_f_dx_0_1)"
   ]
  },
  {
   "cell_type": "markdown",
   "metadata": {},
   "source": [
    "As an exercise, check this result by hand."
   ]
  },
  {
   "cell_type": "markdown",
   "metadata": {},
   "source": [
    "### 4. Solving equations\n",
    "One can also define equations and solve them. The syntax may seem counterintuitive at first, but is actually quite simple. Each side of the equation is defined and combined to one equation using `Eq`. "
   ]
  },
  {
   "cell_type": "code",
   "execution_count": 47,
   "metadata": {},
   "outputs": [
    {
     "data": {
      "text/latex": [
       "$\\displaystyle b^{2} + x^{2} = b + x$"
      ],
      "text/plain": [
       " 2    2        \n",
       "b  + x  = b + x"
      ]
     },
     "metadata": {},
     "output_type": "display_data"
    },
    {
     "data": {
      "text/latex": [
       "$\\displaystyle \\left[ \\frac{1}{2} - \\frac{\\sqrt{- 4 b^{2} + 4 b + 1}}{2}, \\  \\frac{\\sqrt{- 4 b^{2} + 4 b + 1}}{2} + \\frac{1}{2}\\right]$"
      ],
      "text/plain": [
       "⎡       __________________     __________________    ⎤\n",
       "⎢      ╱      2               ╱      2               ⎥\n",
       "⎢1   ╲╱  - 4⋅b  + 4⋅b + 1   ╲╱  - 4⋅b  + 4⋅b + 1    1⎥\n",
       "⎢─ - ─────────────────────, ───────────────────── + ─⎥\n",
       "⎣2             2                      2             2⎦"
      ]
     },
     "metadata": {},
     "output_type": "display_data"
    }
   ],
   "source": [
    "lh = x**2 + b**2 # left hand side\n",
    "rh = b + x       # right hand side\n",
    "eq = Eq(lh, rh)  # define equation object combining lh and rh\n",
    "display(eq)\n",
    "\n",
    "solutions = solve(eq, x) # solve for x\n",
    "display(solutions)"
   ]
  },
  {
   "cell_type": "markdown",
   "metadata": {},
   "source": [
    "as seen, `sympy` has solved the equation and displayed the two solutions. We can also solve systems of equations.  For example, let's solve the following system of equations:\n",
    "\n",
    "$$\n",
    "2x + y = 5 \\\\\n",
    "-x + y = 2\n",
    "$$\n"
   ]
  },
  {
   "cell_type": "code",
   "execution_count": 54,
   "metadata": {},
   "outputs": [
    {
     "data": {
      "text/latex": [
       "$\\displaystyle \\left\\{ x : 1, \\  y : 3\\right\\}$"
      ],
      "text/plain": [
       "{x: 1, y: 3}"
      ]
     },
     "metadata": {},
     "output_type": "display_data"
    }
   ],
   "source": [
    "x,y = symbols('x y') # define symbols\n",
    "\n",
    "# Define equations. Here we use Eq without any helper variables lh and rh.\n",
    "eq1 = Eq(2*x + y, 5)\n",
    "eq2 = Eq(-x + y, 2)\n",
    "equations = [eq1,eq2]\n",
    "\n",
    "# Solve for x and y using solve but with a list of equations and a list of symbols\n",
    "solutions = solve(equations, [x,y])\n",
    "display(solutions)"
   ]
  },
  {
   "cell_type": "markdown",
   "metadata": {},
   "source": [
    "### 5. Limits and series\n",
    "\n",
    "Furthermore, `sympy` can compute limits and series.  For example, let's compute the limit of $sin(x)/x$ as $x$ approaches $0$ using the `limit` function, which takes 3 arguments: the expression to compute the limit of, the variable to take the limit with respect to, and the value to take the limit to. As shown below, `sympy` can also handle infinities using the `oo` syntax for $\\infty$. Check results by hand:"
   ]
  },
  {
   "cell_type": "code",
   "execution_count": 57,
   "metadata": {},
   "outputs": [
    {
     "data": {
      "text/latex": [
       "$\\displaystyle 1$"
      ],
      "text/plain": [
       "1"
      ]
     },
     "metadata": {},
     "output_type": "display_data"
    },
    {
     "data": {
      "text/latex": [
       "$\\displaystyle 0$"
      ],
      "text/plain": [
       "0"
      ]
     },
     "metadata": {},
     "output_type": "display_data"
    }
   ],
   "source": [
    "lim_0 = limit(sin(x)/x, x, 0)\n",
    "lim_infty = limit(sin(x)/x, x, oo)\n",
    "\n",
    "display(lim_0) # 1\n",
    "display(lim_infty) # 0"
   ]
  },
  {
   "cell_type": "markdown",
   "metadata": {},
   "source": [
    "We can also compute series using the `series` function.  For example, let's compute the Taylor series of $sin(x)$ around $x=0$ up to the third order:"
   ]
  },
  {
   "cell_type": "code",
   "execution_count": 56,
   "metadata": {},
   "outputs": [
    {
     "data": {
      "text/latex": [
       "$\\displaystyle x + O\\left(x^{3}\\right)$"
      ],
      "text/plain": [
       "     ⎛ 3⎞\n",
       "x + O⎝x ⎠"
      ]
     },
     "metadata": {},
     "output_type": "display_data"
    }
   ],
   "source": [
    "taylor_sin = series(sin(x), x, 0, 3)\n",
    "display(taylor_sin)"
   ]
  },
  {
   "cell_type": "markdown",
   "metadata": {},
   "source": [
    "Feel free to also check this result by hand."
   ]
  },
  {
   "cell_type": "markdown",
   "metadata": {},
   "source": [
    "## Wrap-up"
   ]
  },
  {
   "cell_type": "markdown",
   "metadata": {},
   "source": [
    "This has been a brief introduction to the capabilities of `sympy` in the context of calculus. There is much more that `sympy` can do, and you are encouraged to explore the [documentation](http://docs.sympy.org/latest/index.html) to learn more.  In particular, you may want to check out the [tutorial](http://docs.sympy.org/latest/tutorial/index.html) and the [calculus](http://docs.sympy.org/latest/modules/calculus/index.html) module."
   ]
  }
 ],
 "metadata": {
  "kernelspec": {
   "display_name": "Python 3.7.8 64-bit",
   "language": "python",
   "name": "python3"
  },
  "language_info": {
   "codemirror_mode": {
    "name": "ipython",
    "version": 3
   },
   "file_extension": ".py",
   "mimetype": "text/x-python",
   "name": "python",
   "nbconvert_exporter": "python",
   "pygments_lexer": "ipython3",
   "version": "3.7.8"
  },
  "orig_nbformat": 4,
  "vscode": {
   "interpreter": {
    "hash": "949777d72b0d2535278d3dc13498b2535136f6dfe0678499012e853ee9abcab1"
   }
  }
 },
 "nbformat": 4,
 "nbformat_minor": 2
}
