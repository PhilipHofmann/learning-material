{
 "cells": [
  {
   "cell_type": "markdown",
   "metadata": {},
   "source": [
    "# Introduction to SymPy (2)\n",
    "\n",
    "[**Download this notebook**](https://ifa-edu-it.github.io/learning-material/courses/linear-algebra/sympy-linalg.ipynb)\n",
    "\n",
    "This notebook is the continued introduction to SymPy, a Python library for symbolic mathematics. Here we will consider sympy in the context of linear algebra, and demonstrate some core features. Lets import the library:"
   ]
  },
  {
   "cell_type": "code",
   "execution_count": 1,
   "metadata": {},
   "outputs": [],
   "source": [
    "from sympy import *"
   ]
  },
  {
   "cell_type": "markdown",
   "metadata": {},
   "source": [
    "### 1. Matrices\n",
    "\n",
    "Defining matrices with numbers and symbols is easy:"
   ]
  },
  {
   "cell_type": "code",
   "execution_count": 2,
   "metadata": {},
   "outputs": [
    {
     "data": {
      "text/latex": [
       "$\\displaystyle \\left[\\begin{matrix}1 & x\\\\y & z\\end{matrix}\\right]$"
      ],
      "text/plain": [
       "Matrix([\n",
       "[1, x],\n",
       "[y, z]])"
      ]
     },
     "metadata": {},
     "output_type": "display_data"
    }
   ],
   "source": [
    "# Define symbols\n",
    "x, y, z = symbols('x y z')\n",
    "\n",
    "# Define matrices\n",
    "A = Matrix([[1,x],\n",
    "            [y,z]])\n",
    "B = Matrix([[1,2],\n",
    "            [3,4]])\n",
    "\n",
    "display(A)"
   ]
  },
  {
   "cell_type": "markdown",
   "metadata": {},
   "source": [
    "Performing maths with matrices is also easy. For example, we can multiply two matrices:"
   ]
  },
  {
   "cell_type": "code",
   "execution_count": 14,
   "metadata": {},
   "outputs": [
    {
     "data": {
      "text/latex": [
       "$\\displaystyle \\left[\\begin{matrix}3 x + 1 & 4 x + 2\\\\y + 3 z & 2 y + 4 z\\end{matrix}\\right]$"
      ],
      "text/plain": [
       "Matrix([\n",
       "[3*x + 1,   4*x + 2],\n",
       "[y + 3*z, 2*y + 4*z]])"
      ]
     },
     "metadata": {},
     "output_type": "display_data"
    }
   ],
   "source": [
    "display(A*B)"
   ]
  },
  {
   "cell_type": "markdown",
   "metadata": {},
   "source": [
    "or find the determinant and inverse:"
   ]
  },
  {
   "cell_type": "code",
   "execution_count": 20,
   "metadata": {},
   "outputs": [
    {
     "data": {
      "text/latex": [
       "$\\displaystyle - x y + z$"
      ],
      "text/plain": [
       "-x*y + z"
      ]
     },
     "metadata": {},
     "output_type": "display_data"
    },
    {
     "data": {
      "text/latex": [
       "$\\displaystyle \\left[\\begin{matrix}\\frac{z}{- x y + z} & - \\frac{x}{- x y + z}\\\\- \\frac{y}{- x y + z} & \\frac{1}{- x y + z}\\end{matrix}\\right]$"
      ],
      "text/plain": [
       "Matrix([\n",
       "[ z/(-x*y + z), -x/(-x*y + z)],\n",
       "[-y/(-x*y + z),  1/(-x*y + z)]])"
      ]
     },
     "metadata": {},
     "output_type": "display_data"
    }
   ],
   "source": [
    "det = A.det()\n",
    "display(det)\n",
    "\n",
    "inv = A.inv()\n",
    "display(inv)"
   ]
  },
  {
   "cell_type": "markdown",
   "metadata": {},
   "source": [
    "### 2. Eigenvalues and eigenvectors\n",
    "\n",
    "Sympy can of course also solve for the characteristic polynomial and get the eigenvalues and eigenvectors:"
   ]
  },
  {
   "cell_type": "code",
   "execution_count": 8,
   "metadata": {},
   "outputs": [
    {
     "name": "stdout",
     "output_type": "stream",
     "text": [
      "Characteristic polynomial of A:\n"
     ]
    },
    {
     "data": {
      "text/latex": [
       "$\\displaystyle \\operatorname{PurePoly}{\\left( _x^{2} + \\left(- z - 1\\right) _x -  x y + z, _x, domain=\\mathbb{Z}\\left[x, y, z\\right] \\right)}$"
      ],
      "text/plain": [
       "PurePoly(_x**2 + (-z - 1)*_x - x*y + z, _x, domain='ZZ[x,y,z]')"
      ]
     },
     "metadata": {},
     "output_type": "display_data"
    },
    {
     "name": "stdout",
     "output_type": "stream",
     "text": [
      "Eigenvalues of A:\n"
     ]
    },
    {
     "data": {
      "text/plain": [
       "{z/2 - sqrt(4*x*y + z**2 - 2*z + 1)/2 + 1/2: 1,\n",
       " z/2 + sqrt(4*x*y + z**2 - 2*z + 1)/2 + 1/2: 1}"
      ]
     },
     "metadata": {},
     "output_type": "display_data"
    }
   ],
   "source": [
    "print('Characteristic polynomial of A:')\n",
    "cpoly_A = A.charpoly(x)\n",
    "display(cpoly_A)\n",
    "\n",
    "print('Eigenvalues of A:')\n",
    "eigenvals_A = A.eigenvals() # Returns a dict where the key is the eigenvalue and the value is the multiplicity\n",
    "display(eigenvals_A)"
   ]
  },
  {
   "cell_type": "markdown",
   "metadata": {},
   "source": [
    "Eigenvectors are also easy to find:"
   ]
  },
  {
   "cell_type": "code",
   "execution_count": 13,
   "metadata": {},
   "outputs": [
    {
     "name": "stdout",
     "output_type": "stream",
     "text": [
      "First eigenvalue of A:\n"
     ]
    },
    {
     "data": {
      "text/latex": [
       "$\\displaystyle \\frac{z}{2} - \\frac{\\sqrt{4 x y + z^{2} - 2 z + 1}}{2} + \\frac{1}{2}$"
      ],
      "text/plain": [
       "z/2 - sqrt(4*x*y + z**2 - 2*z + 1)/2 + 1/2"
      ]
     },
     "metadata": {},
     "output_type": "display_data"
    },
    {
     "name": "stdout",
     "output_type": "stream",
     "text": [
      "Multiplicity of first eigenvalue of A:\n"
     ]
    },
    {
     "data": {
      "text/plain": [
       "1"
      ]
     },
     "metadata": {},
     "output_type": "display_data"
    },
    {
     "name": "stdout",
     "output_type": "stream",
     "text": [
      "First eigenvector of A:\n"
     ]
    },
    {
     "data": {
      "text/latex": [
       "$\\displaystyle \\left[\\begin{matrix}- \\frac{z}{y} + \\frac{\\frac{z}{2} - \\frac{\\sqrt{4 x y + z^{2} - 2 z + 1}}{2} + \\frac{1}{2}}{y}\\\\1\\end{matrix}\\right]$"
      ],
      "text/plain": [
       "Matrix([\n",
       "[-z/y + (z/2 - sqrt(4*x*y + z**2 - 2*z + 1)/2 + 1/2)/y],\n",
       "[                                                    1]])"
      ]
     },
     "metadata": {},
     "output_type": "display_data"
    }
   ],
   "source": [
    "eigenvects_A = A.eigenvects() # Returns a list of tuples where the first element is the eigenvalue, the second is the multiplicity, and the third is a list of linearly independent eigenvectors\n",
    "print('First eigenvalue of A:')\n",
    "display(eigenvects_A[0][0]) # First eigenvalue\n",
    "\n",
    "print('Multiplicity of first eigenvalue of A:')\n",
    "display(eigenvects_A[0][1]) # Multiplicity of first eigenvalue\n",
    "\n",
    "print('First eigenvector of A:')\n",
    "display(eigenvects_A[0][2][0]) # First eigenvector"
   ]
  },
  {
   "cell_type": "markdown",
   "metadata": {},
   "source": [
    "### 3. Summary\n",
    "\n",
    "Sympy can, in the context of linear algebra, be used to perform a large number of operations on symbolic matrices. The functions shown above display only a small fraction of its capabilities, and so it is a good idea to search for more information or online or in the documentation, e.g. \"sympy gram-schmidt\". It is very likely that the library contains what you need, or that you can make your own code stumps that utlize sympy but with some extra logic added on top for your specific problem. Some useful links are: [sympy.org](sympy.org), [sympy documentation](docs.sympy.org/latest/index.ht...), [sympy tutorial](docs.sympy.org/latest/tutorial...), [sympy linear algebra](docs.sympy.org/latest/modules/...)."
   ]
  }
 ],
 "metadata": {
  "kernelspec": {
   "display_name": "Python 3.7.8 64-bit",
   "language": "python",
   "name": "python3"
  },
  "language_info": {
   "codemirror_mode": {
    "name": "ipython",
    "version": 3
   },
   "file_extension": ".py",
   "mimetype": "text/x-python",
   "name": "python",
   "nbconvert_exporter": "python",
   "pygments_lexer": "ipython3",
   "version": "3.7.8"
  },
  "orig_nbformat": 4,
  "vscode": {
   "interpreter": {
    "hash": "949777d72b0d2535278d3dc13498b2535136f6dfe0678499012e853ee9abcab1"
   }
  }
 },
 "nbformat": 4,
 "nbformat_minor": 2
}
